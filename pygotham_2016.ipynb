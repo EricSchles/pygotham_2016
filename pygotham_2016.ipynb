{
 "cells": [
  {
   "cell_type": "code",
   "execution_count": null,
   "metadata": {
    "collapsed": true
   },
   "outputs": [],
   "source": [
    "from __future__ import print_function, unicode_literals\n",
    "\n",
    "from collections import Counter\n",
    "\n",
    "import arrow\n",
    "from IPython.display import Image\n",
    "import matplotlib.pyplot as plt\n",
    "import networkx as nx\n",
    "import numpy as np\n",
    "import pandas as pd\n",
    "import seaborn as sb\n",
    "\n",
    "%matplotlib inline\n",
    "sb.set_context('talk')"
   ]
  },
  {
   "cell_type": "code",
   "execution_count": null,
   "metadata": {
    "collapsed": true
   },
   "outputs": [],
   "source": [
    "import textacy"
   ]
  },
  {
   "cell_type": "markdown",
   "metadata": {},
   "source": [
    "## Topic Modeling\n",
    "\n",
    "- unsupervised statistical models for identifying latent themes (\"topics\") across many documents\n",
    "- topics are recurring groups of co-occurring words \n",
    "- documents are mixtures of topics associated through their constituent words\n",
    "- useful for clustering, summarizing, exploring"
   ]
  },
  {
   "cell_type": "code",
   "execution_count": null,
   "metadata": {
    "collapsed": false
   },
   "outputs": [],
   "source": [
    "# Blei, David M. \"Probabilistic topic models.\" Communications of the ACM 55.4 (2012): 77-84.\n",
    "Image('assets/topic-modeling-diagram.png')"
   ]
  },
  {
   "cell_type": "markdown",
   "metadata": {},
   "source": [
    "### Step 1: Get a corpus, and stream it from disk\n",
    "\n",
    "#### the Bernie and Hillary corpus\n",
    "\n",
    "all(?) speeches given by Bernie Sanders and Hillary Clinton on the floor of Congress between January 1996 and February 2016\n",
    "\n",
    "data source: the Sunlight Foundation’s [Capitol Words API](http://sunlightlabs.github.io/Capitol-Words/)"
   ]
  },
  {
   "cell_type": "code",
   "execution_count": null,
   "metadata": {
    "collapsed": true
   },
   "outputs": [],
   "source": [
    "docs = textacy.corpora.fetch_bernie_and_hillary()"
   ]
  },
  {
   "cell_type": "markdown",
   "metadata": {},
   "source": [
    "### Step 2: Process content, pair it with available metadata\n",
    "\n",
    "pairing content and metadata facilitates richer understanding, added analysis possibilities, and user convenience"
   ]
  },
  {
   "cell_type": "code",
   "execution_count": null,
   "metadata": {
    "collapsed": false
   },
   "outputs": [],
   "source": [
    "content_stream, metadata_stream = textacy.fileio.split_content_and_metadata(\n",
    "    docs, 'text', itemwise=False)\n",
    "corpus = textacy.TextCorpus.from_texts(\n",
    "    'en', content_stream, metadata=metadata_stream, n_threads=2)\n",
    "corpus.save('./assets', fname_prefix='bernie_and_hillary')"
   ]
  },
  {
   "cell_type": "markdown",
   "metadata": {},
   "source": [
    "^ this takes about 2 minutes (which is _quite fast_, really)"
   ]
  },
  {
   "cell_type": "code",
   "execution_count": null,
   "metadata": {
    "collapsed": false
   },
   "outputs": [],
   "source": [
    "corpus = textacy.TextCorpus.load('./assets', fname_prefix='bernie_and_hillary')\n",
    "corpus"
   ]
  },
  {
   "cell_type": "markdown",
   "metadata": {},
   "source": [
    "`TextCorpus` and `TextDoc` provide a convenient and flexible interface:"
   ]
  },
  {
   "cell_type": "code",
   "execution_count": null,
   "metadata": {
    "collapsed": false
   },
   "outputs": [],
   "source": [
    "doc = corpus[-1]\n",
    "doc"
   ]
  },
  {
   "cell_type": "code",
   "execution_count": null,
   "metadata": {
    "collapsed": false
   },
   "outputs": [],
   "source": [
    "doc.metadata"
   ]
  },
  {
   "cell_type": "code",
   "execution_count": null,
   "metadata": {
    "collapsed": true
   },
   "outputs": [],
   "source": [
    "bernie_docs = list(corpus.get_docs(lambda doc: doc.metadata['speaker'] == 'Bernard Sanders'))\n",
    "hillary_docs = list(corpus.get_docs(lambda doc: doc.metadata['speaker'] == 'Hillary Clinton'))"
   ]
  },
  {
   "cell_type": "markdown",
   "metadata": {},
   "source": [
    "### Step 3: Tokenize and vectorize the corpus\n",
    "\n",
    "- into which pieces should we split documents?\n",
    "    - words\n",
    "    - ngrams\n",
    "    - named entities\n",
    "    - some combination thereof\n",
    "- how should we weight those pieces?\n",
    "    - term frequency\n",
    "    - tfidf\n",
    "- how should we filter those pieces?\n",
    "    - stopwords\n",
    "    - too common, too rare"
   ]
  },
  {
   "cell_type": "code",
   "execution_count": null,
   "metadata": {
    "collapsed": false,
    "scrolled": true
   },
   "outputs": [],
   "source": [
    "bag = doc.as_bag_of_terms(weighting='tf', normalized=False)\n",
    "bag.most_common(10)"
   ]
  },
  {
   "cell_type": "code",
   "execution_count": null,
   "metadata": {
    "collapsed": false
   },
   "outputs": [],
   "source": [
    "[(doc.spacy_stringstore[term_id], term_count) for term_id, term_count in bag.most_common(10)]"
   ]
  },
  {
   "cell_type": "code",
   "execution_count": null,
   "metadata": {
    "collapsed": false
   },
   "outputs": [],
   "source": [
    "Counter(doc.as_terms_list(words=False, ngrams=(3, 3), named_entities=True)).most_common(10)"
   ]
  },
  {
   "cell_type": "code",
   "execution_count": null,
   "metadata": {
    "collapsed": false
   },
   "outputs": [],
   "source": [
    "terms_lists = (doc.as_terms_list(words=True, ngrams=False, named_entities=True)\n",
    "               for doc in corpus)\n",
    "\n",
    "doc_term_matrix, id2term = corpus.as_doc_term_matrix(\n",
    "    terms_lists, weighting='tfidf', normalize=True, smooth_idf=True,\n",
    "    min_df=3, max_df=0.95, max_n_terms=100000)"
   ]
  },
  {
   "cell_type": "code",
   "execution_count": null,
   "metadata": {
    "collapsed": false
   },
   "outputs": [],
   "source": [
    "doc_term_matrix"
   ]
  },
  {
   "cell_type": "code",
   "execution_count": null,
   "metadata": {
    "collapsed": false
   },
   "outputs": [],
   "source": [
    "doc_term_matrix.todense()"
   ]
  },
  {
   "cell_type": "code",
   "execution_count": null,
   "metadata": {
    "collapsed": false
   },
   "outputs": [],
   "source": [
    "for i in range(10):\n",
    "    print('{} => {}'.format(i, id2term[i]))"
   ]
  },
  {
   "cell_type": "markdown",
   "metadata": {},
   "source": [
    "### Step 4: Choose a topic model, and train it"
   ]
  },
  {
   "cell_type": "code",
   "execution_count": null,
   "metadata": {
    "collapsed": false
   },
   "outputs": [],
   "source": [
    "model = textacy.tm.TopicModel('nmf', n_topics=10)\n",
    "model.fit(doc_term_matrix)\n",
    "model.model"
   ]
  },
  {
   "cell_type": "markdown",
   "metadata": {},
   "source": [
    "### Step 5: Interpret the model"
   ]
  },
  {
   "cell_type": "code",
   "execution_count": null,
   "metadata": {
    "collapsed": true
   },
   "outputs": [],
   "source": [
    "doc_topic_matrix = model.transform(doc_term_matrix)"
   ]
  },
  {
   "cell_type": "code",
   "execution_count": null,
   "metadata": {
    "collapsed": false
   },
   "outputs": [],
   "source": [
    "for topic_idx, top_terms in model.top_topic_terms(id2term, top_n=10):\n",
    "    print('topic {}:   {}'.format(topic_idx, '   '.join(top_terms)))"
   ]
  },
  {
   "cell_type": "code",
   "execution_count": null,
   "metadata": {
    "collapsed": false,
    "scrolled": true
   },
   "outputs": [],
   "source": [
    "for topic_idx, top_docs in model.top_topic_docs(doc_topic_matrix, top_n=3):\n",
    "    print('\\n{}'.format(topic_idx))\n",
    "    for j in top_docs:\n",
    "        print(corpus[j].metadata['title'])"
   ]
  },
  {
   "cell_type": "code",
   "execution_count": null,
   "metadata": {
    "collapsed": false
   },
   "outputs": [],
   "source": [
    "for doc_idx, topics in model.top_doc_topics(doc_topic_matrix, docs=range(5), top_n=2):\n",
    "    print(corpus[doc_idx].metadata['title'], ':', topics)"
   ]
  },
  {
   "cell_type": "code",
   "execution_count": null,
   "metadata": {
    "collapsed": false
   },
   "outputs": [],
   "source": [
    "for i, val in enumerate(model.topic_weights(doc_topic_matrix)):\n",
    "    print('topic {}: {}'.format(i, round(val, 4)))"
   ]
  },
  {
   "cell_type": "code",
   "execution_count": null,
   "metadata": {
    "collapsed": false
   },
   "outputs": [],
   "source": [
    "model.termite_plot(doc_term_matrix, id2term,\n",
    "                   topics=-1, n_terms=25, sort_terms_by='seriation',\n",
    "                   highlight_topics=(0, 5))"
   ]
  },
  {
   "cell_type": "code",
   "execution_count": null,
   "metadata": {
    "collapsed": false
   },
   "outputs": [],
   "source": [
    "Image('assets/hackerman.jpg')"
   ]
  },
  {
   "cell_type": "markdown",
   "metadata": {},
   "source": [
    "---\n",
    "\n",
    "## Features! (in slides)"
   ]
  },
  {
   "cell_type": "markdown",
   "metadata": {},
   "source": [
    "#### stream text, json, and `spaCy` binary data to/from disk"
   ]
  },
  {
   "cell_type": "code",
   "execution_count": null,
   "metadata": {
    "collapsed": false
   },
   "outputs": [],
   "source": [
    "rr = textacy.corpora.RedditReader('/Users/burtondewilde/Desktop/datasets/2015_reddit_comments_corpus/reddit_data/2015/RC_2015-01.bz2')\n",
    "for i, text in enumerate(rr.texts(limit=3)):\n",
    "    print(i, text)"
   ]
  },
  {
   "cell_type": "markdown",
   "metadata": {},
   "source": [
    "#### clean, normalize, and inspect raw text"
   ]
  },
  {
   "cell_type": "code",
   "execution_count": null,
   "metadata": {
    "collapsed": false
   },
   "outputs": [],
   "source": [
    "text = \"\"\"\n",
    "This first line is nice and clean.\n",
    "But â€” not the 2nd &amp; 3rd!\n",
    "Don’t worry,   go here: http://textacy.readthedocs.io/.\n",
    "\"\"\"\n",
    "print(textacy.preprocess_text(text, fix_unicode=True, no_urls=True, lowercase=True))"
   ]
  },
  {
   "cell_type": "markdown",
   "metadata": {},
   "source": [
    "#### easy access to and filtering of linguistic elements"
   ]
  },
  {
   "cell_type": "code",
   "execution_count": null,
   "metadata": {
    "collapsed": false
   },
   "outputs": [],
   "source": [
    "text = list(textacy.corpora.WikiReader('/Users/burtondewilde/Desktop/datasets/enwiki-latest-pages-articles.xml.bz2').texts(limit=1))[0][10:]\n",
    "doc = textacy.TextDoc(text)"
   ]
  },
  {
   "cell_type": "code",
   "execution_count": null,
   "metadata": {
    "collapsed": false
   },
   "outputs": [],
   "source": [
    "print('sentences:', list(doc.sents)[0])\n",
    "print('words:', list(doc.words(filter_stops=False))[:5])\n",
    "print('ngrams:', list(doc.ngrams(2, filter_stops=True))[:3])\n",
    "print('noun chunks:', list(doc.noun_chunks())[:3])"
   ]
  },
  {
   "cell_type": "markdown",
   "metadata": {},
   "source": [
    "#### unsupervised extraction of structured information"
   ]
  },
  {
   "cell_type": "code",
   "execution_count": null,
   "metadata": {
    "collapsed": false
   },
   "outputs": [],
   "source": [
    "list(doc.named_entities(good_ne_types={'PERSON'}))[:3]"
   ]
  },
  {
   "cell_type": "code",
   "execution_count": null,
   "metadata": {
    "collapsed": false
   },
   "outputs": [],
   "source": [
    "{k: v for k, v in doc.acronyms_and_definitions().items() if v}"
   ]
  },
  {
   "cell_type": "code",
   "execution_count": null,
   "metadata": {
    "collapsed": false
   },
   "outputs": [],
   "source": [
    "list(doc.direct_quotations())[0]"
   ]
  },
  {
   "cell_type": "code",
   "execution_count": null,
   "metadata": {
    "collapsed": false
   },
   "outputs": [],
   "source": [
    "doc.key_terms(algorithm='textrank', n=3)"
   ]
  },
  {
   "cell_type": "markdown",
   "metadata": {},
   "source": [
    "#### document and string similarity"
   ]
  },
  {
   "cell_type": "code",
   "execution_count": null,
   "metadata": {
    "collapsed": false
   },
   "outputs": [],
   "source": [
    "doc1 = textacy.TextDoc('She spoke to the assembled journalists.')\n",
    "doc2 = textacy.TextDoc('He chatted with the gathered press.')"
   ]
  },
  {
   "cell_type": "code",
   "execution_count": null,
   "metadata": {
    "collapsed": false
   },
   "outputs": [],
   "source": [
    "textacy.distance.word_movers(doc1, doc2)"
   ]
  },
  {
   "cell_type": "code",
   "execution_count": null,
   "metadata": {
    "collapsed": false
   },
   "outputs": [],
   "source": [
    "textacy.distance.word2vec(doc1, doc2)"
   ]
  },
  {
   "cell_type": "code",
   "execution_count": null,
   "metadata": {
    "collapsed": false
   },
   "outputs": [],
   "source": [
    "textacy.distance.jaccard([w.lemma_ for w in doc1], [w.lemma_ for w in doc2])"
   ]
  },
  {
   "cell_type": "markdown",
   "metadata": {},
   "source": [
    "---\n",
    "\n",
    "## Semantic Network Viz (in slides)"
   ]
  },
  {
   "cell_type": "code",
   "execution_count": null,
   "metadata": {
    "collapsed": false,
    "scrolled": true
   },
   "outputs": [],
   "source": [
    "text = \"\"\"\n",
    "When in the Course of human events, it becomes necessary for one people to dissolve the political bands which have connected them with another, and to assume among the powers of the earth, the separate and equal station to which the Laws of Nature and of Nature's God entitle them, a decent respect to the opinions of mankind requires that they should declare the causes which impel them to the separation.\n",
    "\n",
    "We hold these truths to be self-evident, that all men are created equal, that they are endowed by their Creator with certain unalienable Rights, that among these are Life, Liberty and the pursuit of Happiness.--That to secure these rights, Governments are instituted among Men, deriving their just powers from the consent of the governed, --That whenever any Form of Government becomes destructive of these ends, it is the Right of the People to alter or to abolish it, and to institute new Government, laying its foundation on such principles and organizing its powers in such form, as to them shall seem most likely to effect their Safety and Happiness. Prudence, indeed, will dictate that Governments long established should not be changed for light and transient causes; and accordingly all experience hath shewn, that mankind are more disposed to suffer, while evils are sufferable, than to right themselves by abolishing the forms to which they are accustomed. But when a long train of abuses and usurpations, pursuing invariably the same Object evinces a design to reduce them under absolute Despotism, it is their right, it is their duty, to throw off such Government, and to provide new Guards for their future security.--Such has been the patient sufferance of these Colonies; and such is now the necessity which constrains them to alter their former Systems of Government. The history of the present King of Great Britain is a history of repeated injuries and usurpations, all having in direct object the establishment of an absolute Tyranny over these States. To prove this, let Facts be submitted to a candid world.\n",
    "\n",
    "He has refused his Assent to Laws, the most wholesome and necessary for the public good.\n",
    "He has forbidden his Governors to pass Laws of immediate and pressing importance, unless suspended in their operation till his Assent should be obtained; and when so suspended, he has utterly neglected to attend to them.\n",
    "He has refused to pass other Laws for the accommodation of large districts of people, unless those people would relinquish the right of Representation in the Legislature, a right inestimable to them and formidable to tyrants only. \n",
    "He has called together legislative bodies at places unusual, uncomfortable, and distant from the depository of their public Records, for the sole purpose of fatiguing them into compliance with his measures. \n",
    "He has dissolved Representative Houses repeatedly, for opposing with manly firmness his invasions on the rights of the people.\n",
    "He has refused for a long time, after such dissolutions, to cause others to be elected; whereby the Legislative powers, incapable of Annihilation, have returned to the People at large for their exercise; the State remaining in the mean time exposed to all the dangers of invasion from without, and convulsions within.\n",
    "He has endeavoured to prevent the population of these States; for that purpose obstructing the Laws for Naturalization of Foreigners; refusing to pass others to encourage their migrations hither, and raising the conditions of new Appropriations of Lands.\n",
    "He has obstructed the Administration of Justice, by refusing his Assent to Laws for establishing Judiciary powers.\n",
    "He has made Judges dependent on his Will alone, for the tenure of their offices, and the amount and payment of their salaries.\n",
    "He has erected a multitude of New Offices, and sent hither swarms of Officers to harrass our people, and eat out their substance.\n",
    "He has kept among us, in times of peace, Standing Armies without the Consent of our legislatures.\n",
    "He has affected to render the Military independent of and superior to the Civil power.\n",
    "He has combined with others to subject us to a jurisdiction foreign to our constitution, and unacknowledged by our laws; giving his Assent to their Acts of pretended Legislation:\n",
    "For Quartering large bodies of armed troops among us:\n",
    "For protecting them, by a mock Trial, from punishment for any Murders which they should commit on the Inhabitants of these States:\n",
    "For cutting off our Trade with all parts of the world:\n",
    "For imposing Taxes on us without our Consent: \n",
    "For depriving us in many cases, of the benefits of Trial by Jury:\n",
    "For transporting us beyond Seas to be tried for pretended offences\n",
    "For abolishing the free System of English Laws in a neighbouring Province, establishing therein an Arbitrary government, and enlarging its Boundaries so as to render it at once an example and fit instrument for introducing the same absolute rule into these Colonies:\n",
    "For taking away our Charters, abolishing our most valuable Laws, and altering fundamentally the Forms of our Governments:\n",
    "For suspending our own Legislatures, and declaring themselves invested with power to legislate for us in all cases whatsoever.\n",
    "He has abdicated Government here, by declaring us out of his Protection and waging War against us.\n",
    "He has plundered our seas, ravaged our Coasts, burnt our towns, and destroyed the lives of our people. \n",
    "He is at this time transporting large Armies of foreign Mercenaries to compleat the works of death, desolation and tyranny, already begun with circumstances of Cruelty & perfidy scarcely paralleled in the most barbarous ages, and totally unworthy the Head of a civilized nation.\n",
    "He has constrained our fellow Citizens taken Captive on the high Seas to bear Arms against their Country, to become the executioners of their friends and Brethren, or to fall themselves by their Hands. \n",
    "He has excited domestic insurrections amongst us, and has endeavoured to bring on the inhabitants of our frontiers, the merciless Indian Savages, whose known rule of warfare, is an undistinguished destruction of all ages, sexes and conditions.\n",
    "\n",
    "In every stage of these Oppressions We have Petitioned for Redress in the most humble terms: Our repeated Petitions have been answered only by repeated injury. A Prince whose character is thus marked by every act which may define a Tyrant, is unfit to be the ruler of a free people.\n",
    "\n",
    "Nor have We been wanting in attentions to our Brittish brethren. We have warned them from time to time of attempts by their legislature to extend an unwarrantable jurisdiction over us. We have reminded them of the circumstances of our emigration and settlement here. We have appealed to their native justice and magnanimity, and we have conjured them by the ties of our common kindred to disavow these usurpations, which, would inevitably interrupt our connections and correspondence. They too have been deaf to the voice of justice and of consanguinity. We must, therefore, acquiesce in the necessity, which denounces our Separation, and hold them, as we hold the rest of mankind, Enemies in War, in Peace Friends.\n",
    "\n",
    "We, therefore, the Representatives of the united States of America, in General Congress, Assembled, appealing to the Supreme Judge of the world for the rectitude of our intentions, do, in the Name, and by Authority of the good People of these Colonies, solemnly publish and declare, That these United Colonies are, and of Right ought to be Free and Independent States; that they are Absolved from all Allegiance to the British Crown, and that all political connection between them and the State of Great Britain, is and ought to be totally dissolved; and that as Free and Independent States, they have full Power to levy War, conclude Peace, contract Alliances, establish Commerce, and to do all other Acts and Things which Independent States may of right do. And for the support of this Declaration, with a firm reliance on the protection of divine Providence, we mutually pledge to each other our Lives, our Fortunes and our sacred Honor.\n",
    "\"\"\"\n",
    "\n",
    "cleaned_text = textacy.preprocess_text(text, fix_unicode=True, no_accents=True)\n",
    "doc = textacy.TextDoc(cleaned_text, lang='en')\n",
    "print(doc)"
   ]
  },
  {
   "cell_type": "code",
   "execution_count": null,
   "metadata": {
    "collapsed": true
   },
   "outputs": [],
   "source": [
    "graph = doc.as_semantic_network(nodes='terms', edge_weighting='cooc_freq', window_width=10)\n",
    "# filter out some of the less important words, for clarity of viz\n",
    "drop_nodes = [node for node, _\n",
    "              in sorted(nx.pagerank_scipy(graph).items(), key=lambda x: x[1])[:300]]\n",
    "for node in drop_nodes:\n",
    "    graph.remove_node(node)"
   ]
  },
  {
   "cell_type": "code",
   "execution_count": null,
   "metadata": {
    "collapsed": false
   },
   "outputs": [],
   "source": [
    "node_weights = nx.pagerank_scipy(graph)\n",
    "ax = textacy.viz.network.draw_semantic_network(graph, node_weights=node_weights, spread=2.5)"
   ]
  },
  {
   "cell_type": "code",
   "execution_count": null,
   "metadata": {
    "collapsed": false
   },
   "outputs": [],
   "source": [
    "# fig = ax.get_figure()\n",
    "# fig.savefig('declaration-of-independence-as-network.png',\n",
    "#             dpi=300, bbox_inches='tight')"
   ]
  }
 ],
 "metadata": {
  "kernelspec": {
   "display_name": "Python 3",
   "language": "python",
   "name": "python3"
  },
  "language_info": {
   "codemirror_mode": {
    "name": "ipython",
    "version": 3
   },
   "file_extension": ".py",
   "mimetype": "text/x-python",
   "name": "python",
   "nbconvert_exporter": "python",
   "pygments_lexer": "ipython3",
   "version": "3.5.1"
  }
 },
 "nbformat": 4,
 "nbformat_minor": 0
}
